{
 "cells": [
  {
   "cell_type": "code",
   "execution_count": null,
   "metadata": {
    "scrolled": true
   },
   "outputs": [],
   "source": [
    "!pip install --pre azure-cosmos"
   ]
  },
  {
   "cell_type": "code",
   "execution_count": null,
   "metadata": {},
   "outputs": [],
   "source": [
    "import numpy as np\n",
    "import random\n",
    "import time\n",
    "import uuid\n",
    "\n",
    "from azure.cosmos import CosmosClient, PartitionKey, exceptions"
   ]
  },
  {
   "cell_type": "code",
   "execution_count": null,
   "metadata": {},
   "outputs": [],
   "source": [
    "# Initialize the Cosmos client\n",
    "COSMOS_ENDPOINT = \"<<TODO: endpoint>>\"\n",
    "COSMOS_KEY = '<<TODO: primary_key>>'\n",
    "\n",
    "cosmos_client = CosmosClient(COSMOS_ENDPOINT, COSMOS_KEY)"
   ]
  },
  {
   "cell_type": "code",
   "execution_count": null,
   "metadata": {},
   "outputs": [],
   "source": [
    "# Create reference variables to existing database and containers\n",
    "db_id = 'MoviesDB'\n",
    "c_cartitem_id = 'CartItems'\n",
    "c_categories_id = 'Categories'\n",
    "c_events_id = 'Events'\n",
    "c_items_id = 'Items'\n",
    "c_orders_id = 'Orders'\n",
    "c_users_id = 'Users'\n",
    "\n",
    "db_client = cosmos_client.get_database_client(db_id)\n",
    "c_cartitem_client = db_client.get_container_client(c_cartitem_id)\n",
    "c_categories_client = db_client.get_container_client(c_categories_id)\n",
    "c_events_client = db_client.get_container_client(c_events_id)\n",
    "c_items_client = db_client.get_container_client(c_items_id)\n",
    "c_orders_client = db_client.get_container_client(c_orders_id)\n",
    "c_users_client = db_client.get_container_client(c_users_id)"
   ]
  },
  {
   "cell_type": "markdown",
   "metadata": {},
   "source": [
    "These are the list of requests that we have along with their estimated number of requests per second.\n",
    "\n",
    "```\n",
    "\t• Retrieve list of top 10 movies by popularity (home page): ~500 requests/second\n",
    "\t• Retrieve list of categories: ~500 requests/second\n",
    "\t• Filter movies by category: ~200 requests/second\n",
    "\t• Retrieve details for a specific movie: ~160 requests/second\n",
    "\t• Retrieve list of last 10 movies by release date: ~75 requests/second\n",
    "\t• Page through lists of movies: ~30 requests/second\n",
    "\t• Retrieve orders with details showing products with quantities: ~10 requests/second\n",
    "\t• Add a movie to the shopping cart: ~5 requests/second\n",
    "\t• Complete a purchase transaction: ~2 requests/second\n",
    "```"
   ]
  },
  {
   "cell_type": "code",
   "execution_count": null,
   "metadata": {},
   "outputs": [],
   "source": [
    "# Get RUs for query \"Retrieve list of top 10 movies by popularity (home page)\"\n",
    "\n",
    "query = \"SELECT TOP 10 * FROM c ORDER BY c.Popularity\"\n",
    "\n",
    "items = list(c_items_client.query_items(\n",
    "    query=query,\n",
    "    enable_cross_partition_query=True\n",
    "))\n",
    "\n",
    "top_10_movies_ru = c_items_client.client_connection.last_response_headers['x-ms-request-charge']\n",
    "\n",
    "print(f'Query returned {len(items)} items. Operation consumed {top_10_movies_ru} request units')"
   ]
  },
  {
   "cell_type": "code",
   "execution_count": null,
   "metadata": {},
   "outputs": [],
   "source": [
    "# Get RUs for query \"Retrieve list of categories\"\n",
    "\n",
    "query = \"SELECT * FROM c\"\n",
    "\n",
    "categories = list(c_categories_client.query_items(\n",
    "    query=query,\n",
    "    enable_cross_partition_query=True\n",
    "))\n",
    "\n",
    "categories_list_ru = c_categories_client.client_connection.last_response_headers['x-ms-request-charge']\n",
    "\n",
    "print(f'Query returned {len(categories)} items. Operation consumed {categories_list_ru} request units')"
   ]
  },
  {
   "cell_type": "code",
   "execution_count": null,
   "metadata": {},
   "outputs": [],
   "source": [
    "# Get RUs for query \"Filter movies by category\"\n",
    "\n",
    "rus = []\n",
    "for cat in categories:\n",
    "    cat_id = cat['CategoryId']\n",
    "    query = f\"SELECT * FROM c WHERE c.CategoryId = {cat_id}\"\n",
    "    items = list(c_items_client.query_items(\n",
    "        query=query,\n",
    "        partition_key=cat_id\n",
    "    ))\n",
    "    ru = c_items_client.client_connection.last_response_headers['x-ms-request-charge']\n",
    "    rus.append(float(ru))\n",
    "\n",
    "# Taking average of RUs\n",
    "filter_movie_ru = np.mean(rus)\n",
    "print(f'Operation consumed an average of {filter_movie_ru} request units')"
   ]
  },
  {
   "cell_type": "code",
   "execution_count": null,
   "metadata": {},
   "outputs": [],
   "source": [
    "# Get RUs for query \"Retrieve details for a specific movie\"\n",
    "\n",
    "rus = []\n",
    "for item in items[0:20]:\n",
    "    item_id = item['ItemId']\n",
    "    query = f\"SELECT * FROM c WHERE c.ItemId = {item_id}\"\n",
    "    items = list(c_items_client.query_items(\n",
    "        query=query,\n",
    "        enable_cross_partition_query=True\n",
    "    ))\n",
    "    ru = c_items_client.client_connection.last_response_headers['x-ms-request-charge']\n",
    "    rus.append(float(ru))\n",
    "\n",
    "# Taking average of RUs\n",
    "movie_details_ru = np.mean(rus)\n",
    "print(f'Operation consumed an average of {movie_details_ru} request units')"
   ]
  },
  {
   "cell_type": "code",
   "execution_count": null,
   "metadata": {},
   "outputs": [],
   "source": [
    "# Get RUs for query \"Retrieve list of last 10 movies by release date\"\n",
    "\n",
    "query = \"SELECT TOP 10 * FROM c ORDER BY c.ReleaseDate DESC\"\n",
    "\n",
    "items = list(c_items_client.query_items(\n",
    "    query=query,\n",
    "    enable_cross_partition_query=True\n",
    "))\n",
    "\n",
    "latest_10_movies_ru = c_items_client.client_connection.last_response_headers['x-ms-request-charge']\n",
    "\n",
    "print(f'Query returned {len(items)} items. Operation consumed {latest_10_movies_ru} request units')"
   ]
  },
  {
   "cell_type": "code",
   "execution_count": null,
   "metadata": {},
   "outputs": [],
   "source": [
    "# Get RUs for query \"Page through lists of movies\"\n",
    "\n",
    "rus = []\n",
    "\n",
    "query = \"SELECT * FROM c\"\n",
    "\n",
    "items_iterable = c_items_client.query_items(\n",
    "    query=query,\n",
    "    enable_cross_partition_query=True,\n",
    "    feed_options = {\n",
    "        'maxItemCount': 10\n",
    "    }\n",
    ")\n",
    "\n",
    "for _ in range(0, 10):\n",
    "    items_iterable.next()\n",
    "    ru = c_items_client.client_connection.last_response_headers['x-ms-request-charge']\n",
    "    rus.append(float(ru))\n",
    "\n",
    "paging_movies_ru = np.mean(rus)\n",
    "\n",
    "print(f'Operation consumed an average of {paging_movies_ru} request units')"
   ]
  },
  {
   "cell_type": "code",
   "execution_count": null,
   "metadata": {},
   "outputs": [],
   "source": [
    "# Get RUs for query \"Retrieve orders with details showing products with quantities\"\n",
    "\n",
    "query = \"SELECT * FROM c\"\n",
    "\n",
    "orders = list(c_orders_client.query_items(\n",
    "    query=query,\n",
    "    enable_cross_partition_query=True\n",
    "))\n",
    "\n",
    "orders_list_ru = c_orders_client.client_connection.last_response_headers['x-ms-request-charge']\n",
    "\n",
    "print(f'Query returned {len(orders)} items. Operation consumed {orders_list_ru} request units')"
   ]
  },
  {
   "cell_type": "code",
   "execution_count": null,
   "metadata": {},
   "outputs": [],
   "source": [
    "# Get RUs for query \"Add a movie to the shopping cart\"\n",
    "\n",
    "item_id = items[0]['ItemId']\n",
    "\n",
    "movie_item = {\n",
    "    'id': str(uuid.uuid4()),\n",
    "    'CartItemId': str(uuid.uuid4()),\n",
    "    'CartId': 1,\n",
    "    'ItemId': item_id,\n",
    "    'Quantity': 9,\n",
    "    'DateCreated': int(round(time.time() * 1000))\n",
    "}\n",
    "c_cartitem_client.create_item(body=movie_item)\n",
    "\n",
    "add_cart_ru = c_cartitem_client.client_connection.last_response_headers['x-ms-request-charge']\n",
    "\n",
    "print(f'Operation consumed {add_cart_ru} request units')"
   ]
  },
  {
   "cell_type": "code",
   "execution_count": null,
   "metadata": {},
   "outputs": [],
   "source": [
    "# Get RUs for query \"Complete a purchase transaction\"\n",
    "\n",
    "item_id = items[0]['ItemId']\n",
    "\n",
    "order_item = {\n",
    "    \"OrderID\": random.randint(200, 1000),\n",
    "    \"OrderDate\": \"2019-06-11T22:12:50.600\",\n",
    "    \"FirstName\": \"Gregory\",\n",
    "    \"LastName\": \"Middleton\",\n",
    "    \"Address\": \"369 Milton Parkway\",\n",
    "    \"City\": \"Madison\",\n",
    "    \"State\": \"Texas\",\n",
    "    \"PostalCode\": \"41549\",\n",
    "    \"Country\": \"United States\",\n",
    "    \"Phone\": \"3284807419\",\n",
    "    \"Total\": 41.99,\n",
    "    \"OrderDetails\": [\n",
    "        {\n",
    "            \"OrderDetailId\": 636,\n",
    "            \"ProductId\": 397527,\n",
    "            \"UnitPrice\": 8.66,\n",
    "            \"Quantity\": 1\n",
    "        },\n",
    "        {\n",
    "            \"OrderDetailId\": 637,\n",
    "            \"ProductId\": 397528,\n",
    "            \"UnitPrice\": 8.07,\n",
    "            \"Quantity\": 1\n",
    "        },\n",
    "        {\n",
    "            \"OrderDetailId\": 638,\n",
    "            \"ProductId\": 397529,\n",
    "            \"UnitPrice\": 5.81,\n",
    "            \"Quantity\": 1\n",
    "        },\n",
    "        {\n",
    "            \"OrderDetailId\": 639,\n",
    "            \"ProductId\": 397530,\n",
    "            \"UnitPrice\": 8.07,\n",
    "            \"Quantity\": 1\n",
    "        },\n",
    "        {\n",
    "            \"OrderDetailId\": 640,\n",
    "            \"ProductId\": 397531,\n",
    "            \"UnitPrice\": 11.38,\n",
    "            \"Quantity\": 1\n",
    "        }\n",
    "    ],\n",
    "    \"id\": str(uuid.uuid4())\n",
    "}\n",
    "c_orders_client.create_item(body=order_item)\n",
    "\n",
    "add_order_ru = c_orders_client.client_connection.last_response_headers['x-ms-request-charge']\n",
    "\n",
    "print(f'Operation consumed {add_order_ru} request units')"
   ]
  },
  {
   "cell_type": "code",
   "execution_count": null,
   "metadata": {},
   "outputs": [],
   "source": [
    "# Estimate RUs for queries specified in requirements\n",
    "total_ru = 0\n",
    "total_ru = total_ru + (float(top_10_movies_ru) * 500)\n",
    "total_ru = total_ru + (float(categories_list_ru) * 500)\n",
    "total_ru = total_ru + (float(filter_movie_ru) * 200)\n",
    "total_ru = total_ru + (float(movie_details_ru) * 160)\n",
    "total_ru = total_ru + (float(latest_10_movies_ru) * 75)\n",
    "total_ru = total_ru + (float(paging_movies_ru) * 30)\n",
    "total_ru = total_ru + (float(orders_list_ru) * 10)\n",
    "total_ru = total_ru + (float(add_cart_ru) * 5)\n",
    "total_ru = total_ru + (float(add_order_ru) * 2)\n",
    "\n",
    "print(f'Total estimated RUs for the database is {total_ru}')"
   ]
  },
  {
   "cell_type": "code",
   "execution_count": null,
   "metadata": {},
   "outputs": [],
   "source": []
  }
 ],
 "metadata": {
  "kernelspec": {
   "display_name": "Python 3.6",
   "language": "python",
   "name": "python36"
  },
  "language_info": {
   "codemirror_mode": {
    "name": "ipython",
    "version": 3
   },
   "file_extension": ".py",
   "mimetype": "text/x-python",
   "name": "python",
   "nbconvert_exporter": "python",
   "pygments_lexer": "ipython3",
   "version": "3.6.6"
  }
 },
 "nbformat": 4,
 "nbformat_minor": 2
}
